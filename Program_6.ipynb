{
  "nbformat": 4,
  "nbformat_minor": 0,
  "metadata": {
    "colab": {
      "name": "Program 6.ipynb",
      "provenance": []
    },
    "kernelspec": {
      "name": "python3",
      "display_name": "Python 3"
    },
    "language_info": {
      "name": "python"
    }
  },
  "cells": [
    {
      "cell_type": "code",
      "metadata": {
        "colab": {
          "base_uri": "https://localhost:8080/"
        },
        "id": "iMgc2_81EtFC",
        "outputId": "508b6909-7d5b-4106-faa7-809e583b67eb"
      },
      "source": [
        "import numpy as np, pandas as pd, matplotlib.pyplot as plt \n",
        "\n",
        "\n",
        "\n",
        "from sklearn import tree, metrics, model_selection, preprocessing  \n",
        "\n",
        "from sklearn.neighbors import KNeighborsClassifier \n",
        "\n",
        "\n",
        "\n",
        "\n",
        "\n",
        "df = pd.read_csv('iris (1).csv') \n",
        "\n",
        "\n",
        "\n",
        "y = df.iloc[:,-1].values \n",
        "x = df.iloc[:,0:4].values \n",
        "x_train, x_test, y_train, y_test = model_selection.train_test_split(x, y, test_size = 0.2) \n",
        "classifier = KNeighborsClassifier(n_neighbors=3) \n",
        "classifier.fit(x_train,y_train) \n",
        "y_predict = classifier.predict(x_test) \n",
        "acuuracy = metrics.accuracy_score(y_test, y_predict) \n",
        "confusion_matrix(y_test, y_predict) \n"
      ],
      "execution_count": null,
      "outputs": [
        {
          "output_type": "execute_result",
          "data": {
            "text/plain": [
              "array([[ 7,  0,  0],\n",
              "       [ 0, 10,  2],\n",
              "       [ 0,  0, 11]])"
            ]
          },
          "metadata": {
            "tags": []
          },
          "execution_count": 11
        }
      ]
    }
  ]
}