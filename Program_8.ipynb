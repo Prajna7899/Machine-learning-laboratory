{
  "nbformat": 4,
  "nbformat_minor": 0,
  "metadata": {
    "colab": {
      "name": "Program 8.ipynb",
      "provenance": []
    },
    "kernelspec": {
      "name": "python3",
      "display_name": "Python 3"
    },
    "language_info": {
      "name": "python"
    }
  },
  "cells": [
    {
      "cell_type": "code",
      "metadata": {
        "colab": {
          "base_uri": "https://localhost:8080/"
        },
        "id": "DLtZOg0jIlJ8",
        "outputId": "1119da81-aaf6-4975-d356-d0b679996b94"
      },
      "source": [
        "import numpy as np\n",
        "\n",
        "def sigmoid(x):\n",
        "  return 1/(1+np.exp(-x))\n",
        "\n",
        "def sigmoid_derivation(x):\n",
        "  return x*(x-1)\n",
        "\n",
        "input = np.array([[0,0,1],\n",
        "                  [1,1,1],\n",
        "                  [1,0,1],\n",
        "                  [0,1,1]])\n",
        "\n",
        "a_output = np.array([[0,1,1,0]]).T\n",
        "\n",
        "np.random.seed(1)\n",
        "\n",
        "weights = 2* np.random.random((3,1)) - 1\n",
        "\n",
        "print('Initial weights are:')\n",
        "print(weights)\n",
        "\n",
        "for i in range(10000):\n",
        "  input_layer = input\n",
        "  o_output = sigmoid(np.dot(input_layer, weights))\n",
        "  \n",
        "  loss = o_output - a_output\n",
        "\n",
        "  adjustment = loss * sigmoid_derivation(o_output)\n",
        "\n",
        "  weights = weights + np.dot(input_layer.T, adjustment)\n",
        "  \n",
        "print('new weights are:')\n",
        "print(weights)\n",
        "\n",
        "print('obtained output values are')\n",
        "print(o_output)\n"
      ],
      "execution_count": 38,
      "outputs": [
        {
          "output_type": "stream",
          "text": [
            "Initial weights are:\n",
            "[[-0.16595599]\n",
            " [ 0.44064899]\n",
            " [-0.99977125]]\n",
            "new weights are:\n",
            "[[ 9.67299303]\n",
            " [-0.2078435 ]\n",
            " [-4.62963669]]\n",
            "obtained output values are\n",
            "[[0.00966449]\n",
            " [0.99211957]\n",
            " [0.99358898]\n",
            " [0.00786506]]\n"
          ],
          "name": "stdout"
        }
      ]
    }
  ]
}