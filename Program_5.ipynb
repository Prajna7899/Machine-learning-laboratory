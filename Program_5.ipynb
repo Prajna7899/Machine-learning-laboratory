{
  "nbformat": 4,
  "nbformat_minor": 0,
  "metadata": {
    "colab": {
      "name": "Program 5.ipynb",
      "provenance": []
    },
    "kernelspec": {
      "name": "python3",
      "display_name": "Python 3"
    },
    "language_info": {
      "name": "python"
    }
  },
  "cells": [
    {
      "cell_type": "code",
      "metadata": {
        "id": "8AgaNc05DWXm"
      },
      "source": [
        "import numpy as np, pandas as pd, matplotlib.pyplot as plt \n",
        "from sklearn import tree, metrics, model_selection, preprocessing"
      ],
      "execution_count": 7,
      "outputs": []
    },
    {
      "cell_type": "code",
      "metadata": {
        "colab": {
          "base_uri": "https://localhost:8080/"
        },
        "id": "DtKcwZKjEJka",
        "outputId": "d3b651ae-5fdf-41df-a88c-e32fa815cf90"
      },
      "source": [
        "df = pd.read_csv('iris (1).csv')\n",
        "df.head(5)\n",
        "\n",
        "df['species_label'],i = pd.factorize(df['species'])\n",
        "df['species'].unique()\n",
        "df['species_label'].unique()"
      ],
      "execution_count": 9,
      "outputs": [
        {
          "output_type": "execute_result",
          "data": {
            "text/plain": [
              "array([0, 1, 2])"
            ]
          },
          "metadata": {
            "tags": []
          },
          "execution_count": 9
        }
      ]
    },
    {
      "cell_type": "code",
      "metadata": {
        "colab": {
          "base_uri": "https://localhost:8080/"
        },
        "id": "qKaO0_uhEXe8",
        "outputId": "153271f6-a69b-4481-97a5-425f6ec6832e"
      },
      "source": [
        "# select features\n",
        "y = df['species_label'] #Dependent feature\n",
        "X = df[['sepal.length', 'sepal.width']] #Independent features (subset)\n",
        "\n",
        "# split data randomly into 70% training and 30% test\n",
        "X_train, X_test, y_train, y_test = model_selection.train_test_split(X, y,test_size=0.3, random_state=0)\n",
        "\n",
        "\n",
        "# train the decision tree\n",
        "dtree = tree.DecisionTreeClassifier(criterion='entropy', max_depth=3)\n",
        "dtree.fit(X_train, y_train)\n",
        "\n",
        "# testing the model\n",
        "y_pred = dtree.predict(X_test)\n",
        "\n",
        "#acuuracy\n",
        "accuracy = metrics.accuracy_score(y_test, y_pred)\n",
        "print('Accuracy: {:.2f}'.format(accuracy))\n",
        "\n",
        "\n",
        "from sklearn.metrics import confusion_matrix\n",
        "print(confusion_matrix(y_test, y_pred))\n",
        "\n"
      ],
      "execution_count": 10,
      "outputs": [
        {
          "output_type": "stream",
          "text": [
            "Accuracy: 0.67\n",
            "[[16  0  0]\n",
            " [ 1  5 12]\n",
            " [ 0  2  9]]\n"
          ],
          "name": "stdout"
        }
      ]
    }
  ]
}